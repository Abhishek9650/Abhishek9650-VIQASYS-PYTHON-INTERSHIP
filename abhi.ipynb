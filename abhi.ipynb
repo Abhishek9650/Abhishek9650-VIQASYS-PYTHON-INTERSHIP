{
 "cells": [
  {
   "cell_type": "markdown",
   "metadata": {},
   "source": [
    "___\n",
    "\n",
    "<a href='https://viqasys.com/wp-content/uploads/2021/07/ns1.png'><img src='https://viqasys.com/wp-content/uploads/2021/07/ns1.png'/></a>\n",
    "___\n",
    "<center><em>Content Copyright VIQASYS INNOVATIONS PVT LTD.</em></center>\n",
    "\n",
    "# Assignment 1"
   ]
  },
  {
   "cell_type": "markdown",
   "metadata": {},
   "source": [
    "# Question 1\n",
    "\n",
    "In the below elements, identify which of them are values or expressions. Values can be integers or strings, while expressions will be mathematical operators or combinations thereof.\n",
    "'hello', \n",
    "-87., ), o, lu, alu, ssion)'(Value))str\" (Value)"
   ]
  },
  {
   "cell_type": "code",
   "execution_count": null,
   "metadata": {},
   "outputs": [],
   "source": [
    "Values -6\n",
    "Expressions -1"
   ]
  },
  {
   "cell_type": "markdown",
   "metadata": {},
   "source": [
    "## Question 2\n",
    "\n",
    "Explain the difference between a string and a variable.\n"
   ]
  },
  {
   "cell_type": "code",
   "execution_count": null,
   "metadata": {},
   "outputs": [],
   "source": [
    "variables -Variables are the words which are used to store values such as constants,string etc.\n",
    "string -String are a datatype in python it is also called as an array of characters. variables can be used to store string."
   ]
  },
  {
   "cell_type": "markdown",
   "metadata": {},
   "source": [
    "## Question 3\n",
    "Describe three different data types commonly used in programming"
   ]
  },
  {
   "cell_type": "code",
   "execution_count": null,
   "metadata": {},
   "outputs": [],
   "source": [
    "list - It is also called as an array in different programming languages . It is a list/set of data. for eg- [1,'abhi'].\n",
    "integer - It is one of the most commonly used data type these are the integer number . for eg-  -1, -23,0,234.\n",
    "float - These are the decimal numbers. for eg- 1.2,0.32."
   ]
  },
  {
   "cell_type": "markdown",
   "metadata": {},
   "source": [
    "## Question 4\n",
    "What is an expression made up of? What is the general purpose of expressions?\n"
   ]
  },
  {
   "cell_type": "code",
   "execution_count": null,
   "metadata": {},
   "outputs": [],
   "source": [
    "Expression are made of mathematical numbers , variables and atleast one mathematical operator is invovled . It's general purpose is to get a meaningfull output from stystem of equation/equations\n",
    "for eg:- equation of a circle is x^2+y^2=r^2."
   ]
  },
  {
   "cell_type": "markdown",
   "metadata": {},
   "source": [
    "## Question 5\n",
    "\n",
    "Explain the difference between an expression and a statement, using examples if necessary."
   ]
  },
  {
   "cell_type": "code",
   "execution_count": null,
   "metadata": {},
   "outputs": [],
   "source": [
    "Expression- Expression are made of mathematical numbers , variables and atleast one mathematical operator is invovled .for eg:- equation of a circle is x^2+y^2=r^2.\n",
    "Statement- Statement is a meaningfull composition of words whose output is in boolean(0 or 1). Any statement which is predicted to be both cannot be a mathematical statement.\n",
    "for eg- sky is blue."
   ]
  },
  {
   "cell_type": "markdown",
   "metadata": {},
   "source": [
    "## Question 6\n",
    "After running the following code, what does the variable \"bacon\" contain?\n",
    "\n",
    "bacon = 22 <br>\n",
    "\n",
    "bacon + 1"
   ]
  },
  {
   "cell_type": "code",
   "execution_count": null,
   "metadata": {},
   "outputs": [],
   "source": [
    "22"
   ]
  },
  {
   "cell_type": "markdown",
   "metadata": {},
   "source": [
    "## Question 7\n",
    "Determine the values of the following two terms:<br>\n",
    "'spam' + 'spamspam'<br>\n",
    "'spam' * 3\n",
    "\n"
   ]
  },
  {
   "cell_type": "code",
   "execution_count": null,
   "metadata": {},
   "outputs": [],
   "source": [
    "1- spamspamspam\n",
    "2- spamspamspam"
   ]
  },
  {
   "cell_type": "markdown",
   "metadata": {},
   "source": [
    "## Question 8\n",
    "\n",
    "Why is \"eggs\" a valid variable name while \"100\" is invalid?"
   ]
  },
  {
   "cell_type": "code",
   "execution_count": null,
   "metadata": {},
   "outputs": [],
   "source": [
    "Because the name of a variable should start with a aplhabet or a underscore ."
   ]
  },
  {
   "cell_type": "markdown",
   "metadata": {},
   "source": [
    "## Question 9\n",
    "\n",
    "List three functions that can be used to obtain the integer, floating-point number, or string version of a value."
   ]
  },
  {
   "cell_type": "code",
   "execution_count": null,
   "metadata": {},
   "outputs": [],
   "source": [
    "The functions are :- int(),float(),str()."
   ]
  },
  {
   "cell_type": "markdown",
   "metadata": {},
   "source": [
    "## Question 10 \n",
    "Explain why the following expression causes an error and suggest how to fix it:<br>\n",
    "'I have eaten ' + 99 + ' burritos.'\n",
    "\n"
   ]
  },
  {
   "cell_type": "code",
   "execution_count": null,
   "metadata": {},
   "outputs": [],
   "source": [
    "In the following expression 99 is not a char vale and we cannoot concatinate char and int value togather. To remove the error we need to write 99 as '99' so that the datatype of it \n",
    "also becomes 99 and then the output will be I have eaten99burritos"
   ]
  },
  {
   "cell_type": "markdown",
   "metadata": {},
   "source": [
    "## Question 11\n",
    "Write a Python program to calculate the sum of two numbers and print the result.\n",
    "gative, or zero."
   ]
  },
  {
   "cell_type": "code",
   "execution_count": null,
   "metadata": {},
   "outputs": [],
   "source": [
    "a=float(input(\"enter a number \"))\n",
    "b=float(input(\"enter a number \"))\n",
    "print(\"the sum of the two number is :- \",a+b)"
   ]
  },
  {
   "cell_type": "markdown",
   "metadata": {},
   "source": [
    "## Question 12\n",
    "Create a Python program that takes the user's name as input and prints a greeting message.\n",
    "\n"
   ]
  },
  {
   "cell_type": "code",
   "execution_count": null,
   "metadata": {},
   "outputs": [],
   "source": [
    "a=str(input(\"enter user name\"))\n",
    "print(\"good morning\", a )"
   ]
  },
  {
   "cell_type": "markdown",
   "metadata": {},
   "source": [
    "## Question 13\n",
    "Write a Python program to calculate the area of a rectangle given its length and width. (Assume length and width are provided as inputs.)\n",
    "\n"
   ]
  },
  {
   "cell_type": "code",
   "execution_count": null,
   "metadata": {},
   "outputs": [],
   "source": [
    "length=float(input(\"enter length \"))\n",
    "width=float(input(\"enter width \"))\n",
    "print(\"the area of the rectangle is :- \",length*width)\n"
   ]
  },
  {
   "cell_type": "markdown",
   "metadata": {},
   "source": [
    "## Question 14\n",
    "Create a Python program that asks the user for their age and prints out a message saying whether they are a child, teenager, or adult based on their age.\n",
    "\n"
   ]
  },
  {
   "cell_type": "code",
   "execution_count": null,
   "metadata": {},
   "outputs": [],
   "source": [
    "age=int(input(\"enter age \"))\n",
    "if (age<13):\n",
    "    print(\"you are a child\")\n",
    "else if (age>13 and age<20):\n",
    "    print(\"you are a teenager\")\n",
    "else if (age>20):\n",
    "    print(\"you are an adult\")\n",
    "else:\n",
    "    print(\"please enter a valid input\")"
   ]
  },
  {
   "cell_type": "markdown",
   "metadata": {},
   "source": [
    "## Question 15\n",
    "Write a Python program to convert temperature from Celsius to Fahrenheit. (Assume Celsius temperature is provided as input.)\n",
    "\n"
   ]
  },
  {
   "cell_type": "code",
   "execution_count": null,
   "metadata": {},
   "outputs": [],
   "source": [
    "celsius=float(input(\"enter temperature in celsius\"))\n",
    "Fahrenheit=(9/5 * celsius) + 32.\n",
    "print(\"Temperature in Fahrenheith is :-\",Fahrenheit)"
   ]
  },
  {
   "cell_type": "markdown",
   "metadata": {},
   "source": [
    "## Question 16\n",
    "Create a Python program that takes the radius of a circle as input and calculates its area. (Assume the value of pi is 3.14.)\n",
    "\n"
   ]
  },
  {
   "cell_type": "code",
   "execution_count": null,
   "metadata": {},
   "outputs": [],
   "source": [
    "r=float(input(\"enter radius\"))\n",
    "print(\"The Area of the circle is :-\", 3.14*r*r)"
   ]
  },
  {
   "cell_type": "markdown",
   "metadata": {},
   "source": [
    "## Question 17\n",
    "Write a Python program to find the maximum of two numbers entered by the user.\n",
    "\n"
   ]
  },
  {
   "cell_type": "code",
   "execution_count": null,
   "metadata": {},
   "outputs": [],
   "source": [
    "a=float(input(\"enter number\"))\n",
    "b=float(input(\"enter number\"))\n",
    "maxi=max(a,b)\n",
    "print(\"the maximun of the two number is :-\",maxi)"
   ]
  },
  {
   "cell_type": "markdown",
   "metadata": {},
   "source": [
    "## Question 18\n",
    "Create a Python program that asks the user to enter two numbers and prints out their product.\n",
    "\n"
   ]
  },
  {
   "cell_type": "code",
   "execution_count": null,
   "metadata": {},
   "outputs": [],
   "source": [
    "a=float(input(\"enter number\"))\n",
    "b=float(input(\"enter number\"))\n",
    "print(\"the product of the two number is :-\",a*b)"
   ]
  },
  {
   "cell_type": "markdown",
   "metadata": {},
   "source": [
    "## Question 19\n",
    "Write a Python program that prompts the user to enter a number and then prints whether the number is positive, negative, or zero."
   ]
  },
  {
   "cell_type": "code",
   "execution_count": null,
   "metadata": {},
   "outputs": [],
   "source": [
    "b=float(input(\"enter a number \"))\n",
    "if (b<0):\n",
    "    print(\"nuber is negative\")\n",
    "else if (b=0):\n",
    "    print(\"number is 0\")\n",
    "else if (b>0):\n",
    "    print(\"number is positive\")\n",
    "else:\n",
    "    print(\"please enter a valid  input\")"
   ]
  }
 ],
 "metadata": {
  "anaconda-cloud": {},
  "kernelspec": {
   "display_name": "Python 3 (ipykernel)",
   "language": "python",
   "name": "python3"
  },
  "language_info": {
   "codemirror_mode": {
    "name": "ipython",
    "version": 3
   },
   "file_extension": ".py",
   "mimetype": "text/x-python",
   "name": "python",
   "nbconvert_exporter": "python",
   "pygments_lexer": "ipython3",
   "version": "3.11.7"
  }
 },
 "nbformat": 4,
 "nbformat_minor": 4
}
